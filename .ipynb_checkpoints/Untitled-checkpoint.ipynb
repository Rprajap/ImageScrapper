{
 "cells": [
  {
   "cell_type": "code",
   "execution_count": null,
   "id": "cd10f396",
   "metadata": {},
   "outputs": [],
   "source": [
    "# when i search a google normal ramdas then image \n",
    "https://www.google.com/search?rlz=1C1YTUH_enIN972IN972&q=ramdas&tbm=isch&sa=X&ved=2ahUKEwimpvDxwpCAAxVdTWwGHS2bBOYQ0pQJegQIDhAB&cshid=1689417794828596&biw=1024&bih=625&dpr=1"
   ]
  },
  {
   "cell_type": "code",
   "execution_count": null,
   "id": "7235b1d7",
   "metadata": {},
   "outputs": [],
   "source": [
    "# # sir ntes search a google normal  then image \n",
    "\"https://www.google.com/search?safe=off&site=&tbm=isch&source=hp&q={q}&oq={q}&gs_l=img\""
   ]
  },
  {
   "cell_type": "code",
   "execution_count": null,
   "id": "5bfa0fcc",
   "metadata": {},
   "outputs": [],
   "source": [
    "https://www.google.com/search?client=firefox-b-d&q=ramdas"
   ]
  },
  {
   "cell_type": "code",
   "execution_count": null,
   "id": "9bc6dd7a",
   "metadata": {},
   "outputs": [],
   "source": [
    "from selenium import webdriver\n",
    "import os\n",
    "import time\n",
    "\n",
    "def search_and_save_images(query, folder_name):\n",
    "    # Set up Chrome webdriver\n",
    "    driver = webdriver.Chrome('path/to/chromedriver')\n",
    "\n",
    "    # Create folder to save images\n",
    "    if not os.path.exists(folder_name):\n",
    "        os.makedirs(folder_name)\n",
    "\n",
    "    # Open Google Images\n",
    "    driver.get('https://www.google.com/imghp')\n",
    "\n",
    "    # Find search bar and enter query\n",
    "    search_bar = driver.find_element_by_xpath('//*[@id=\"sbtc\"]/div/div[2]/input')\n",
    "    search_bar.send_keys(query)\n",
    "    search_bar.submit()\n",
    "\n",
    "    # Scroll down to load more images\n",
    "    for _ in range(5):\n",
    "        driver.execute_script('window.scrollTo(0, document.body.scrollHeight);')\n",
    "        time.sleep(2)\n",
    "\n",
    "    # Find all image elements\n",
    "    images = driver.find_elements_by_xpath('//img[@class=\"rg_i Q4LuWd\"]')\n",
    "\n",
    "    # Save images to folder\n",
    "    for i, image in enumerate(images):\n",
    "        image_url = image.get_attribute('src')\n",
    "        if image_url and image_url.startswith('http'):\n",
    "            image_path = os.path.join(folder_name, f'{query}_{i}.jpg')\n",
    "            urllib.request.urlretrieve(image_url, image_path)\n",
    "\n",
    "    # Close webdriver\n",
    "    driver.quit()\n"
   ]
  }
 ],
 "metadata": {
  "kernelspec": {
   "display_name": "Python 3 (ipykernel)",
   "language": "python",
   "name": "python3"
  },
  "language_info": {
   "codemirror_mode": {
    "name": "ipython",
    "version": 3
   },
   "file_extension": ".py",
   "mimetype": "text/x-python",
   "name": "python",
   "nbconvert_exporter": "python",
   "pygments_lexer": "ipython3",
   "version": "3.9.7"
  }
 },
 "nbformat": 4,
 "nbformat_minor": 5
}
